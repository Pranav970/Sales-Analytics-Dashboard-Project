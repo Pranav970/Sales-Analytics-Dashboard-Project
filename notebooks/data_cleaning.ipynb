import pandas as pd
import numpy as np

# Load the dataset
df = pd.read_csv('../data/sample_ecommerce_data.csv')

def clean_sales_data(df):
    """
    Comprehensive data cleaning function for sales dataset
    """
    # 1. Handle missing values
    df.dropna(inplace=True)
    
    # 2. Convert date column
    df['order_date'] = pd.to_datetime(df['order_date'])
    
    # 3. Validate numerical columns
    numerical_cols = ['quantity', 'price', 'revenue', 'cost']
    for col in numerical_cols:
        df[col] = pd.to_numeric(df[col], errors='coerce')
    df.dropna(subset=numerical_cols, inplace=True)
    
    # 4. Calculate profit margin if not present
    if 'profit_margin' not in df.columns:
        df['profit_margin'] = (df['revenue'] - df['cost']) / df['revenue']
    
    # 5. Standardize categorical columns
    df['product_category'] = df['product_category'].str.strip().str.lower()
    df['customer_country'] = df['customer_country'].str.strip()
    
    # 6. Remove outliers (optional)
    Q1 = df['revenue'].quantile(0.25)
    Q3 = df['revenue'].quantile(0.75)
    IQR = Q3 - Q1
    df = df[~((df['revenue'] < (Q1 - 1.5 * IQR)) | (df['revenue'] > (Q3 + 1.5 * IQR)))]
    
    return df

# Clean the data
cleaned_df = clean_sales_data(df)

# Save cleaned dataset
cleaned_df.to_csv('../data/cleaned_sales_data.csv', index=False)

# Basic dataset overview
print(cleaned_df.describe())
print("\nColumn Types:\n", cleaned_df.dtypes)
